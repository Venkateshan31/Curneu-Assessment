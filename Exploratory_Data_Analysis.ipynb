{
  "nbformat": 4,
  "nbformat_minor": 0,
  "metadata": {
    "colab": {
      "name": "Exploratory Data Analysis.ipynb",
      "provenance": [],
      "collapsed_sections": [],
      "toc_visible": true
    },
    "kernelspec": {
      "name": "python3",
      "display_name": "Python 3"
    }
  },
  "cells": [
    {
      "cell_type": "code",
      "metadata": {
        "id": "_qJCfSkD578R"
      },
      "source": [
        "import numpy as np # linear algebra\r\n",
        "import pandas as pd # data processing\r\n",
        "import seaborn as sns\r\n",
        "import matplotlib.pyplot as plt\r\n"
      ],
      "execution_count": 9,
      "outputs": []
    },
    {
      "cell_type": "code",
      "metadata": {
        "id": "Ieivuis27WxZ"
      },
      "source": [
        "est = pd.read_csv(\"/content/malnutrition-estimates.csv\")\r\n",
        "avg_data =pd.read_csv(\"/content/country-wise-average.csv\")"
      ],
      "execution_count": 11,
      "outputs": []
    },
    {
      "cell_type": "markdown",
      "metadata": {
        "id": "5tjg8Fjn_TiC"
      },
      "source": [
        "Some terms related to malnutrition\r\n",
        "wasting:\r\n",
        "Low weight-for-height is known as wasting. It usually indicates recent and severe weight loss, because a person has not had enough food to eat and/or they have had an infectious disease.\r\n",
        "\r\n",
        "severe wasting :\r\n",
        "This is characterized by a massive loss of body fat and muscle tissue. Children who are severely wasted look almost elderly and their bodies are extremely thin and skeletal.\r\n",
        "\r\n",
        "stunting :\r\n",
        "Stunting is when a child has a low height for their age, usually due to malnutrition, repeated infections, and/or poor social stimulation.If stunting is a low height for a child's weight, wasting is low weight for a child's height.\r\n",
        "\r\n",
        "Underweight :\r\n",
        "Children with low weight-for-age are known as underweight. A child who is underweight may be stunted, wasted, or both.\r\n",
        "\r\n",
        "Overweight:\r\n",
        "Overweight and obesity is when a person is too heavy for his or her height."
      ]
    },
    {
      "cell_type": "code",
      "metadata": {
        "colab": {
          "base_uri": "https://localhost:8080/"
        },
        "id": "mpRK2zXl-Db1",
        "outputId": "4d96a6b5-7a84-441e-cc36-fc6ecd467bf1"
      },
      "source": [
        "df=est.copy()\r\n",
        "est.isnull().any()"
      ],
      "execution_count": 12,
      "outputs": [
        {
          "output_type": "execute_result",
          "data": {
            "text/plain": [
              "Unnamed: 0               False\n",
              "ISO code                 False\n",
              "Country                  False\n",
              "Survey Year              False\n",
              "Year                     False\n",
              "Income Classification    False\n",
              "LDC                      False\n",
              "LIFD                     False\n",
              "LLDC or SID2             False\n",
              "Survey Sample (N)         True\n",
              "Severe Wasting            True\n",
              "Wasting                   True\n",
              "Overweight                True\n",
              "Stunting                  True\n",
              "Underweight               True\n",
              "Notes                     True\n",
              "Report Author            False\n",
              "Source                   False\n",
              "Short Source             False\n",
              "U5 Population ('000s)    False\n",
              "dtype: bool"
            ]
          },
          "metadata": {
            "tags": []
          },
          "execution_count": 12
        }
      ]
    },
    {
      "cell_type": "code",
      "metadata": {
        "id": "jzoWoTiW-U1q"
      },
      "source": [
        " #Replacing NaN values of some columns with zero\r\n",
        "df['Severe Wasting']= df['Severe Wasting'].fillna(0.0)\r\n",
        "df['Wasting'] = df['Wasting'].fillna(0.0)\r\n",
        "df['Overweight'] = df['Overweight'].fillna(0.0)\r\n",
        "df['Stunting'] = df['Stunting'].fillna(0.0)\r\n",
        "df['Underweight'] = df['Underweight'].fillna(0.0)"
      ],
      "execution_count": 13,
      "outputs": []
    },
    {
      "cell_type": "markdown",
      "metadata": {
        "id": "ODIBj-5R_0Xv"
      },
      "source": [
        "Observations from this plotting:\r\n",
        "A significant % of children still have 'Stunting','Underweight' and 'Wasting' undernutrition problems in our country.\r\n",
        "\r\n",
        "There is a huge decrease in 'Stunting %' (from 65% to 35%) and 'Underweight %'(from 55% to 38%) over the years. 'Overweight %' is very less in the country around 2-3%. Also, only 5% children suffer from 'Severe Wasting' in the country.\r\n",
        "\r\n",
        "But the most strange pattern we can observe here is that there is a very little change in 'Wasting %' over the years.\r\n",
        "\r\n",
        "-> Malnutrition across different income groups\r\n",
        "undernutrition categories :\r\n",
        "stunting, wasting, overweight, Underweight, and severe wasting\r\n",
        "\r\n",
        "Income Classification:\r\n",
        "Low income = 0, Lower middle income = 1, Upper middle income = 2, High income = 3,"
      ]
    },
    {
      "cell_type": "code",
      "metadata": {
        "colab": {
          "base_uri": "https://localhost:8080/",
          "height": 497
        },
        "id": "Ikw5AFfQ-mdb",
        "outputId": "85de5372-8264-4ebf-eab9-1798b567ecda"
      },
      "source": [
        "data =pd.DataFrame(columns =['parameter','Income Classification','average'])\r\n",
        "\r\n",
        "for param in param_list:\r\n",
        "    for i in range(4):\r\n",
        "        #value=df.loc[df['Income Classification']==i][param].mean()\r\n",
        "        value = avg_data.loc[avg_data['Income Classification']==i][param].mean()\r\n",
        "        value_dict = {'parameter':param,'Income Classification':i,'average':value}\r\n",
        "        data = pd.concat([data, pd.DataFrame(data=[value_dict])])\r\n",
        "        #data = pd.concat([data, pd.DataFrame.from_records([value_dict])])\r\n",
        "        \r\n",
        "\r\n",
        "plt.figure(figsize =(8,8))\r\n",
        "sns.barplot(data =data, x='Income Classification', y='average', hue='parameter')\r\n",
        "plt.show()"
      ],
      "execution_count": 15,
      "outputs": [
        {
          "output_type": "display_data",
          "data": {
            "image/png": "[encoded data removed]",
            "text/plain": [
              "<Figure size 576x576 with 1 Axes>"
            ]
          },
          "metadata": {
            "tags": [],
            "needs_background": "light"
          }
        }
      ]
    },
    {
      "cell_type": "markdown",
      "metadata": {
        "id": "tVsbBgNcABzO"
      },
      "source": [
        "Observations from this plotting:\r\n",
        "Every country in the world is affected by one or more forms of malnutrition.\r\n",
        "We can observe that 'Stunting %' and 'Underweight %' is very high in LOW and LOWER MIDDLE income countries. Whereas 'Overweight %' is comparatively higher in UPPER MIDDLE and HIGH income countries.\r\n",
        "\r\n",
        "'Wasting %' and 'Severe Wasting %' is also higher in LOW and LOWER MIDDLE income countries.\r\n",
        "\r\n",
        "Overall we can see that LOW and LOWER MIDDLE income countries are the ones which are most affected by malnutrition.\r\n",
        "\r\n",
        "-> Analysis of countries which are both LDC and LIFD\r\n",
        "based on recent survey (survey year= 2018 or 2019)\r\n",
        "Low Income Food Deficient (LIFD)(true=1, false=0) , Least Developed Countries (LDC)(true=1, false=0)\r\n",
        "\r\n",
        "Our data, malnutrition-estimates.csv has recent survey of only 32 countries"
      ]
    },
    {
      "cell_type": "code",
      "metadata": {
        "colab": {
          "base_uri": "https://localhost:8080/",
          "height": 551
        },
        "id": "zM3DSLRt-y43",
        "outputId": "a37d4776-bd6f-4897-b91f-ad9caac5b169"
      },
      "source": [
        "df = df.loc[df.Year >=2018]\r\n",
        "temp = df.loc[(df.LDC == 1) & (df.LIFD ==1)]\r\n",
        "\r\n",
        "# 10 contries in which Stunting percentage is highest\r\n",
        "stunting_df = temp.sort_values(by='Stunting', ascending =False).head(10)\r\n",
        "underweight_df =temp.sort_values(by='Underweight', ascending =False).head(10)\r\n",
        "overweight_df=temp.sort_values(by='Overweight', ascending =False).head(10)\r\n",
        "severe_wasting_df=temp.sort_values(by='Severe Wasting', ascending =False).head(10)\r\n",
        "wasting_df =temp.sort_values(by='Wasting', ascending =False).head(10)\r\n",
        "\r\n",
        "fig =plt.figure(figsize = (20,11))\r\n",
        "ax1 = fig.add_subplot(3,2,1)\r\n",
        "ax2 =fig.add_subplot(3,2,2)\r\n",
        "ax3 =fig.add_subplot(3,2,3)\r\n",
        "ax4 =fig.add_subplot(3,2,4)\r\n",
        "ax5 =fig.add_subplot(3,2,5)\r\n",
        "\r\n",
        "sns.barplot(data =wasting_df,ax=ax1, y='Country', x='Wasting', orient='h')\r\n",
        "sns.barplot(data =severe_wasting_df,ax=ax2, y='Country', x='Severe Wasting', orient='h')\r\n",
        "sns.barplot(data =stunting_df,ax=ax3, y='Country', x='Stunting', orient='h')\r\n",
        "sns.barplot(data =underweight_df,ax=ax4, y='Country', x='Underweight', orient='h')\r\n",
        "sns.barplot(data =overweight_df,ax=ax5, y='Country', x='Overweight', orient='h')\r\n",
        "plt.show()"
      ],
      "execution_count": 16,
      "outputs": [
        {
          "output_type": "display_data",
          "data": {
            "image/png": "[encoded data removed]",
            "text/plain": [
              "<Figure size 1440x792 with 5 Axes>"
            ]
          },
          "metadata": {
            "tags": [],
            "needs_background": "light"
          }
        }
      ]
    },
    {
      "cell_type": "markdown",
      "metadata": {
        "id": "g3UXTLbkAQi8"
      },
      "source": [
        "Observations from this plotting:\r\n",
        "countries which are most affected from malnutrition are:\r\n",
        "Niger, Ethiopia, Afganistan, Mauritania, Guinea, Mali, Burkina Faso, Bangaldesh, Senegal, Central African Republic, Madagascar\r\n",
        "\r\n",
        "Highest % of undernutrition categories:\r\n",
        "Stunting: 56%, Wasting: 14%, Severe Wasting: 36%, Underweight: 37%, Overweight: 6.8% Overweight % is very less in such countries(<=8%)\r\n",
        "\r\n",
        "-> Malnutrition in LLDCs and SIDSs:\r\n",
        "Land Locked Developing Countries (LLDC) ('LLDC or SID2' =1), Small Island Developing States (SIDS) ('LLDC or SID2'= 2),"
      ]
    },
    {
      "cell_type": "code",
      "metadata": {
        "colab": {
          "base_uri": "https://localhost:8080/",
          "height": 497
        },
        "id": "iuWmhNtL-5PB",
        "outputId": "b2d64637-287a-4ebe-cedc-85144fd4171a"
      },
      "source": [
        "df = est.copy()\r\n",
        "df = df.loc[df.Year >=2017]\r\n",
        "data2 =pd.DataFrame(columns =['parameter','LLDC or SID2','average'])\r\n",
        "\r\n",
        "for param in param_list:\r\n",
        "    for i in [0.0,1.0,2.0]:\r\n",
        "        #value=df.loc[df['Income Classification']==i][param].mean()\r\n",
        "        value=df.loc[df['LLDC or SID2']==i][param].mean()\r\n",
        "        value_dict = {'parameter':param,'LLDC or SID2':i,'average':value}\r\n",
        "        \r\n",
        "        data2 = pd.concat([data2, pd.DataFrame(data=[value_dict])])\r\n",
        "        #data = pd.concat([data, pd.DataFrame.from_records([value_dict])])\r\n",
        "        \r\n",
        "#sns.factorplot(data =data, y='average', x='parameter', col='Income Classification', kind='bar')\r\n",
        "plt.figure(figsize =(8,8))\r\n",
        "sns.barplot(data =data2,  y='average', x='LLDC or SID2', hue='parameter')\r\n",
        "plt.show()\r\n",
        "\r\n",
        "# Recent surveys do not have data about SID countries"
      ],
      "execution_count": 17,
      "outputs": [
        {
          "output_type": "display_data",
          "data": {
            "image/png": "[encoded data removed]",
            "text/plain": [
              "<Figure size 576x576 with 1 Axes>"
            ]
          },
          "metadata": {
            "tags": [],
            "needs_background": "light"
          }
        }
      ]
    },
    {
      "cell_type": "markdown",
      "metadata": {
        "id": "V8DYkjG2AZYM"
      },
      "source": [
        "Observations from this plotting:\r\n",
        "LLDC countries have a higher percentange of 'Stunting' undernutrition ( about 30% of the children suffer from 'Stunting'). 'Severe Wasting %' and 'Overweight %' are very less in LLDC countries. About 16% children are 'Underweighted'.\r\n",
        "\r\n",
        "-> Countries which are very less affected from malnutrition\r\n",
        "Countries in which percentage of undernutrition parameter is very less or closed to zero."
      ]
    },
    {
      "cell_type": "code",
      "metadata": {
        "colab": {
          "base_uri": "https://localhost:8080/",
          "height": 225
        },
        "id": "3ptXm0dC_Ad9",
        "outputId": "4a4adda3-4d4e-4409-aebb-6ffea703ea93"
      },
      "source": [
        "avg_data.sort_values(by=['Severe Wasting','Stunting','Wasting','Underweight','Overweight']).head(6)"
      ],
      "execution_count": 18,
      "outputs": [
        {
          "output_type": "execute_result",
          "data": {
            "text/html": [
              "<div>\n",
              "<style scoped>\n",
              "    .dataframe tbody tr th:only-of-type {\n",
              "        vertical-align: middle;\n",
              "    }\n",
              "\n",
              "    .dataframe tbody tr th {\n",
              "        vertical-align: top;\n",
              "    }\n",
              "\n",
              "    .dataframe thead th {\n",
              "        text-align: right;\n",
              "    }\n",
              "</style>\n",
              "<table border=\"1\" class=\"dataframe\">\n",
              "  <thead>\n",
              "    <tr style=\"text-align: right;\">\n",
              "      <th></th>\n",
              "      <th>Country</th>\n",
              "      <th>Income Classification</th>\n",
              "      <th>Severe Wasting</th>\n",
              "      <th>Wasting</th>\n",
              "      <th>Overweight</th>\n",
              "      <th>Stunting</th>\n",
              "      <th>Underweight</th>\n",
              "      <th>U5 Population ('000s)</th>\n",
              "    </tr>\n",
              "  </thead>\n",
              "  <tbody>\n",
              "    <tr>\n",
              "      <th>6</th>\n",
              "      <td>AUSTRALIA</td>\n",
              "      <td>3.0</td>\n",
              "      <td>0.00</td>\n",
              "      <td>0.000000</td>\n",
              "      <td>13.875000</td>\n",
              "      <td>1.000000</td>\n",
              "      <td>0.10</td>\n",
              "      <td>1443.074500</td>\n",
              "    </tr>\n",
              "    <tr>\n",
              "      <th>143</th>\n",
              "      <td>UNITED STATES OF AMERICA (THE)</td>\n",
              "      <td>3.0</td>\n",
              "      <td>0.04</td>\n",
              "      <td>0.514286</td>\n",
              "      <td>7.414286</td>\n",
              "      <td>2.914286</td>\n",
              "      <td>0.88</td>\n",
              "      <td>20077.909571</td>\n",
              "    </tr>\n",
              "    <tr>\n",
              "      <th>53</th>\n",
              "      <td>GERMANY</td>\n",
              "      <td>3.0</td>\n",
              "      <td>0.10</td>\n",
              "      <td>0.650000</td>\n",
              "      <td>3.350000</td>\n",
              "      <td>1.500000</td>\n",
              "      <td>0.80</td>\n",
              "      <td>3641.690000</td>\n",
              "    </tr>\n",
              "    <tr>\n",
              "      <th>108</th>\n",
              "      <td>REPUBLIC OF KOREA (THE)</td>\n",
              "      <td>3.0</td>\n",
              "      <td>0.15</td>\n",
              "      <td>1.050000</td>\n",
              "      <td>6.750000</td>\n",
              "      <td>2.500000</td>\n",
              "      <td>0.80</td>\n",
              "      <td>2487.097000</td>\n",
              "    </tr>\n",
              "    <tr>\n",
              "      <th>66</th>\n",
              "      <td>JAPAN</td>\n",
              "      <td>3.0</td>\n",
              "      <td>0.20</td>\n",
              "      <td>2.300000</td>\n",
              "      <td>1.500000</td>\n",
              "      <td>7.100000</td>\n",
              "      <td>3.40</td>\n",
              "      <td>5554.144000</td>\n",
              "    </tr>\n",
              "    <tr>\n",
              "      <th>4</th>\n",
              "      <td>ARGENTINA</td>\n",
              "      <td>2.0</td>\n",
              "      <td>0.20</td>\n",
              "      <td>2.150000</td>\n",
              "      <td>11.125000</td>\n",
              "      <td>10.025000</td>\n",
              "      <td>2.60</td>\n",
              "      <td>3613.651750</td>\n",
              "    </tr>\n",
              "  </tbody>\n",
              "</table>\n",
              "</div>"
            ],
            "text/plain": [
              "                            Country  ...  U5 Population ('000s)\n",
              "6                         AUSTRALIA  ...            1443.074500\n",
              "143  UNITED STATES OF AMERICA (THE)  ...           20077.909571\n",
              "53                          GERMANY  ...            3641.690000\n",
              "108         REPUBLIC OF KOREA (THE)  ...            2487.097000\n",
              "66                            JAPAN  ...            5554.144000\n",
              "4                         ARGENTINA  ...            3613.651750\n",
              "\n",
              "[6 rows x 8 columns]"
            ]
          },
          "metadata": {
            "tags": []
          },
          "execution_count": 18
        }
      ]
    },
    {
      "cell_type": "code",
      "metadata": {
        "colab": {
          "base_uri": "https://localhost:8080/",
          "height": 343
        },
        "id": "hVBsE_WT_GsT",
        "outputId": "417efd45-27e9-47b5-be2b-1a7d620fdf3d"
      },
      "source": [
        "avg_data.sort_values(by=['Severe Wasting','Stunting','Wasting','Underweight','Overweight'], ascending =False).head(10)"
      ],
      "execution_count": 19,
      "outputs": [
        {
          "output_type": "execute_result",
          "data": {
            "text/html": [
              "<div>\n",
              "<style scoped>\n",
              "    .dataframe tbody tr th:only-of-type {\n",
              "        vertical-align: middle;\n",
              "    }\n",
              "\n",
              "    .dataframe tbody tr th {\n",
              "        vertical-align: top;\n",
              "    }\n",
              "\n",
              "    .dataframe thead th {\n",
              "        text-align: right;\n",
              "    }\n",
              "</style>\n",
              "<table border=\"1\" class=\"dataframe\">\n",
              "  <thead>\n",
              "    <tr style=\"text-align: right;\">\n",
              "      <th></th>\n",
              "      <th>Country</th>\n",
              "      <th>Income Classification</th>\n",
              "      <th>Severe Wasting</th>\n",
              "      <th>Wasting</th>\n",
              "      <th>Overweight</th>\n",
              "      <th>Stunting</th>\n",
              "      <th>Underweight</th>\n",
              "      <th>U5 Population ('000s)</th>\n",
              "    </tr>\n",
              "  </thead>\n",
              "  <tbody>\n",
              "    <tr>\n",
              "      <th>124</th>\n",
              "      <td>SOUTH SUDAN</td>\n",
              "      <td>0.0</td>\n",
              "      <td>11.400000</td>\n",
              "      <td>23.650000</td>\n",
              "      <td>8.450000</td>\n",
              "      <td>33.750000</td>\n",
              "      <td>30.100000</td>\n",
              "      <td>1459.262500</td>\n",
              "    </tr>\n",
              "    <tr>\n",
              "      <th>40</th>\n",
              "      <td>DJIBOUTI</td>\n",
              "      <td>1.0</td>\n",
              "      <td>9.400000</td>\n",
              "      <td>17.075000</td>\n",
              "      <td>8.250000</td>\n",
              "      <td>30.075000</td>\n",
              "      <td>22.625000</td>\n",
              "      <td>99.445250</td>\n",
              "    </tr>\n",
              "    <tr>\n",
              "      <th>61</th>\n",
              "      <td>INDIA</td>\n",
              "      <td>1.0</td>\n",
              "      <td>6.116667</td>\n",
              "      <td>18.766667</td>\n",
              "      <td>2.933333</td>\n",
              "      <td>49.055556</td>\n",
              "      <td>42.977778</td>\n",
              "      <td>123014.491000</td>\n",
              "    </tr>\n",
              "    <tr>\n",
              "      <th>28</th>\n",
              "      <td>CHAD</td>\n",
              "      <td>0.0</td>\n",
              "      <td>5.500000</td>\n",
              "      <td>15.240000</td>\n",
              "      <td>3.040000</td>\n",
              "      <td>41.260000</td>\n",
              "      <td>31.400000</td>\n",
              "      <td>2024.290400</td>\n",
              "    </tr>\n",
              "    <tr>\n",
              "      <th>32</th>\n",
              "      <td>COMOROS (THE)</td>\n",
              "      <td>1.0</td>\n",
              "      <td>5.400000</td>\n",
              "      <td>10.125000</td>\n",
              "      <td>12.466667</td>\n",
              "      <td>39.125000</td>\n",
              "      <td>19.575000</td>\n",
              "      <td>90.287750</td>\n",
              "    </tr>\n",
              "    <tr>\n",
              "      <th>149</th>\n",
              "      <td>YEMEN</td>\n",
              "      <td>0.0</td>\n",
              "      <td>5.300000</td>\n",
              "      <td>15.242857</td>\n",
              "      <td>4.842857</td>\n",
              "      <td>51.900000</td>\n",
              "      <td>37.785714</td>\n",
              "      <td>3269.476000</td>\n",
              "    </tr>\n",
              "    <tr>\n",
              "      <th>129</th>\n",
              "      <td>SYRIAN ARAB REPUBLIC (THE)</td>\n",
              "      <td>0.0</td>\n",
              "      <td>5.050000</td>\n",
              "      <td>9.566667</td>\n",
              "      <td>17.825000</td>\n",
              "      <td>28.550000</td>\n",
              "      <td>10.050000</td>\n",
              "      <td>2476.209333</td>\n",
              "    </tr>\n",
              "    <tr>\n",
              "      <th>132</th>\n",
              "      <td>TIMOR-LESTE</td>\n",
              "      <td>1.0</td>\n",
              "      <td>4.775000</td>\n",
              "      <td>15.620000</td>\n",
              "      <td>3.650000</td>\n",
              "      <td>55.380000</td>\n",
              "      <td>42.800000</td>\n",
              "      <td>160.444800</td>\n",
              "    </tr>\n",
              "    <tr>\n",
              "      <th>127</th>\n",
              "      <td>SUDAN (THE)</td>\n",
              "      <td>1.0</td>\n",
              "      <td>4.766667</td>\n",
              "      <td>15.400000</td>\n",
              "      <td>2.900000</td>\n",
              "      <td>36.866667</td>\n",
              "      <td>29.933333</td>\n",
              "      <td>5551.013000</td>\n",
              "    </tr>\n",
              "    <tr>\n",
              "      <th>81</th>\n",
              "      <td>MALDIVES</td>\n",
              "      <td>2.0</td>\n",
              "      <td>4.725000</td>\n",
              "      <td>15.780000</td>\n",
              "      <td>4.660000</td>\n",
              "      <td>32.600000</td>\n",
              "      <td>30.320000</td>\n",
              "      <td>36.045400</td>\n",
              "    </tr>\n",
              "  </tbody>\n",
              "</table>\n",
              "</div>"
            ],
            "text/plain": [
              "                        Country  ...  U5 Population ('000s)\n",
              "124                 SOUTH SUDAN  ...            1459.262500\n",
              "40                     DJIBOUTI  ...              99.445250\n",
              "61                        INDIA  ...          123014.491000\n",
              "28                         CHAD  ...            2024.290400\n",
              "32                COMOROS (THE)  ...              90.287750\n",
              "149                       YEMEN  ...            3269.476000\n",
              "129  SYRIAN ARAB REPUBLIC (THE)  ...            2476.209333\n",
              "132                 TIMOR-LESTE  ...             160.444800\n",
              "127                 SUDAN (THE)  ...            5551.013000\n",
              "81                     MALDIVES  ...              36.045400\n",
              "\n",
              "[10 rows x 8 columns]"
            ]
          },
          "metadata": {
            "tags": []
          },
          "execution_count": 19
        }
      ]
    },
    {
      "cell_type": "code",
      "metadata": {
        "id": "Y5rPyroj_Iv8"
      },
      "source": [
        ""
      ],
      "execution_count": null,
      "outputs": []
    }
  ]
}